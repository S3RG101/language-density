{
  "nbformat": 4,
  "nbformat_minor": 0,
  "metadata": {
    "colab": {
      "name": "Language_density.ipynb",
      "provenance": [],
      "collapsed_sections": [],
      "authorship_tag": "ABX9TyNa3o2B0A+jGLGo4AKu9Ieu",
      "include_colab_link": true
    },
    "kernelspec": {
      "name": "python3",
      "display_name": "Python 3"
    },
    "language_info": {
      "name": "python"
    }
  },
  "cells": [
    {
      "cell_type": "markdown",
      "metadata": {
        "id": "view-in-github",
        "colab_type": "text"
      },
      "source": [
        "<a href=\"https://colab.research.google.com/github/S3RG101/language-density/blob/main/Language_density.ipynb\" target=\"_parent\"><img src=\"https://colab.research.google.com/assets/colab-badge.svg\" alt=\"Open In Colab\"/></a>"
      ]
    },
    {
      "cell_type": "code",
      "source": [
        "! git clone https://github.com/dwyl/english-words"
      ],
      "metadata": {
        "colab": {
          "base_uri": "https://localhost:8080/"
        },
        "id": "wX1GCOl_7z_h",
        "outputId": "287f8c0b-11ba-41a2-cd7b-bfc62405c0e8"
      },
      "execution_count": null,
      "outputs": [
        {
          "output_type": "stream",
          "name": "stdout",
          "text": [
            "Cloning into 'english-words'...\n",
            "remote: Enumerating objects: 226, done.\u001b[K\n",
            "remote: Counting objects: 100% (16/16), done.\u001b[K\n",
            "remote: Compressing objects: 100% (15/15), done.\u001b[K\n",
            "remote: Total 226 (delta 4), reused 6 (delta 1), pack-reused 210\u001b[K\n",
            "Receiving objects: 100% (226/226), 30.01 MiB | 25.42 MiB/s, done.\n",
            "Resolving deltas: 100% (96/96), done.\n"
          ]
        }
      ]
    },
    {
      "cell_type": "code",
      "source": [
        "import matplotlib.pyplot as plt\n",
        "\n",
        "words_n_letters = []\n",
        "max_num_letters = 20\n",
        "n_range = range(1,max_num_letters)\n",
        "\n",
        "for num_letters in n_range:\n",
        "  cont = 0\n",
        "  with open('english-words/words_alpha.txt') as eng_words:\n",
        "    for line in eng_words:\n",
        "      if len(line[:-1]) == num_letters:\n",
        "        cont += 1\n",
        "  words_n_letters.append(cont)\n",
        "\n",
        "plt.title(\"Words existing with n letters\")\n",
        "plt.xlabel(\"Number of letters\")\n",
        "plt.ylabel(\"Number of words\")\n",
        "plt.bar(n_range,words_n_letters)"
      ],
      "metadata": {
        "colab": {
          "base_uri": "https://localhost:8080/",
          "height": 312
        },
        "id": "gokKf0rW78Z_",
        "outputId": "1b7598e7-54c4-4db4-bddc-33620dea26a9"
      },
      "execution_count": null,
      "outputs": [
        {
          "output_type": "execute_result",
          "data": {
            "text/plain": [
              "<BarContainer object of 19 artists>"
            ]
          },
          "metadata": {},
          "execution_count": 42
        },
        {
          "output_type": "display_data",
          "data": {
            "text/plain": [
              "<Figure size 432x288 with 1 Axes>"
            ],
            "image/png": "[encoded data removed]"
          },
          "metadata": {
            "needs_background": "light"
          }
        }
      ]
    },
    {
      "cell_type": "code",
      "source": [
        "percentage_n_letters = []\n",
        "\n",
        "for k,n in enumerate(words_n_letters):\n",
        "  percentage = (n*100)/(26**(k+1))\n",
        "  percentage_n_letters.append(percentage)\n",
        "\n",
        "\n",
        "plt.title(\"Density of words compared to any string of letters\")\n",
        "plt.xlabel(\"Number of letters\")\n",
        "plt.ylabel(\"Percentage of words\")\n",
        "plt.plot(n_range[1:10], percentage_n_letters[1:10])\n",
        "plt.scatter(n_range[1:10], percentage_n_letters[1:10])"
      ],
      "metadata": {
        "colab": {
          "base_uri": "https://localhost:8080/",
          "height": 312
        },
        "id": "NfEJYU06AeCL",
        "outputId": "50798987-5fc3-4d5f-90b6-3ad643cc13dd"
      },
      "execution_count": null,
      "outputs": [
        {
          "output_type": "execute_result",
          "data": {
            "text/plain": [
              "<matplotlib.collections.PathCollection at 0x7f16af7e6510>"
            ]
          },
          "metadata": {},
          "execution_count": 45
        },
        {
          "output_type": "display_data",
          "data": {
            "text/plain": [
              "<Figure size 432x288 with 1 Axes>"
            ],
            "image/png": "[encoded data removed]"
          },
          "metadata": {
            "needs_background": "light"
          }
        }
      ]
    }
  ]
}